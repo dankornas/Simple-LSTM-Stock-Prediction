{
 "cells": [
  {
   "cell_type": "markdown",
   "id": "aa729b5a-f82a-4249-86b2-5876f5a7ddbd",
   "metadata": {},
   "source": [
    "## Description \n",
    "This program uses an artificial recurrent nueral network called Long Short Term Memory (LSTM) <br>\n",
    "to predict the closing stock prive of a corporation (Apple Inc.) using the past 60 day stock price."
   ]
  },
  {
   "cell_type": "code",
   "execution_count": 1,
   "id": "7030f9ae-e970-4d50-a586-6e8fcafe8861",
   "metadata": {},
   "outputs": [],
   "source": [
    "# Import the libraries\n",
    "import math\n",
    "import pandas_datareader as web\n",
    "import numpy as np\n",
    "import pandas as pd\n",
    "from sklearn.preprocessing import MinMaxScaler\n",
    "from tensorflow.keras.models import Sequential\n",
    "from tensorflow.keras.layers import Dense, LSTM\n",
    "import matplotlib.pyplot as plt\n",
    "plt.style.use('fivethirtyeight')"
   ]
  },
  {
   "cell_type": "code",
   "execution_count": 6,
   "id": "3a4645d1-5187-4670-a0b6-e869e9498226",
   "metadata": {},
   "outputs": [
    {
     "data": {
      "text/html": [
       "<div>\n",
       "<style scoped>\n",
       "    .dataframe tbody tr th:only-of-type {\n",
       "        vertical-align: middle;\n",
       "    }\n",
       "\n",
       "    .dataframe tbody tr th {\n",
       "        vertical-align: top;\n",
       "    }\n",
       "\n",
       "    .dataframe thead th {\n",
       "        text-align: right;\n",
       "    }\n",
       "</style>\n",
       "<table border=\"1\" class=\"dataframe\">\n",
       "  <thead>\n",
       "    <tr style=\"text-align: right;\">\n",
       "      <th></th>\n",
       "      <th>High</th>\n",
       "      <th>Low</th>\n",
       "      <th>Open</th>\n",
       "      <th>Close</th>\n",
       "      <th>Volume</th>\n",
       "      <th>Adj Close</th>\n",
       "    </tr>\n",
       "    <tr>\n",
       "      <th>Date</th>\n",
       "      <th></th>\n",
       "      <th></th>\n",
       "      <th></th>\n",
       "      <th></th>\n",
       "      <th></th>\n",
       "      <th></th>\n",
       "    </tr>\n",
       "  </thead>\n",
       "  <tbody>\n",
       "    <tr>\n",
       "      <th>2014-09-17</th>\n",
       "      <td>468.174011</td>\n",
       "      <td>452.421997</td>\n",
       "      <td>465.864014</td>\n",
       "      <td>457.334015</td>\n",
       "      <td>2.105680e+07</td>\n",
       "      <td>457.334015</td>\n",
       "    </tr>\n",
       "    <tr>\n",
       "      <th>2014-09-18</th>\n",
       "      <td>456.859985</td>\n",
       "      <td>413.104004</td>\n",
       "      <td>456.859985</td>\n",
       "      <td>424.440002</td>\n",
       "      <td>3.448320e+07</td>\n",
       "      <td>424.440002</td>\n",
       "    </tr>\n",
       "    <tr>\n",
       "      <th>2014-09-19</th>\n",
       "      <td>427.834991</td>\n",
       "      <td>384.532013</td>\n",
       "      <td>424.102997</td>\n",
       "      <td>394.795990</td>\n",
       "      <td>3.791970e+07</td>\n",
       "      <td>394.795990</td>\n",
       "    </tr>\n",
       "    <tr>\n",
       "      <th>2014-09-20</th>\n",
       "      <td>423.295990</td>\n",
       "      <td>389.882996</td>\n",
       "      <td>394.673004</td>\n",
       "      <td>408.903992</td>\n",
       "      <td>3.686360e+07</td>\n",
       "      <td>408.903992</td>\n",
       "    </tr>\n",
       "    <tr>\n",
       "      <th>2014-09-21</th>\n",
       "      <td>412.425995</td>\n",
       "      <td>393.181000</td>\n",
       "      <td>408.084991</td>\n",
       "      <td>398.821014</td>\n",
       "      <td>2.658010e+07</td>\n",
       "      <td>398.821014</td>\n",
       "    </tr>\n",
       "    <tr>\n",
       "      <th>...</th>\n",
       "      <td>...</td>\n",
       "      <td>...</td>\n",
       "      <td>...</td>\n",
       "      <td>...</td>\n",
       "      <td>...</td>\n",
       "      <td>...</td>\n",
       "    </tr>\n",
       "    <tr>\n",
       "      <th>2021-12-13</th>\n",
       "      <td>50205.000000</td>\n",
       "      <td>45894.847656</td>\n",
       "      <td>50114.742188</td>\n",
       "      <td>46737.480469</td>\n",
       "      <td>3.216673e+10</td>\n",
       "      <td>46737.480469</td>\n",
       "    </tr>\n",
       "    <tr>\n",
       "      <th>2021-12-14</th>\n",
       "      <td>48431.398438</td>\n",
       "      <td>46424.496094</td>\n",
       "      <td>46709.824219</td>\n",
       "      <td>46612.632812</td>\n",
       "      <td>3.463862e+10</td>\n",
       "      <td>46612.632812</td>\n",
       "    </tr>\n",
       "    <tr>\n",
       "      <th>2021-12-15</th>\n",
       "      <td>49473.957031</td>\n",
       "      <td>46671.964844</td>\n",
       "      <td>48379.753906</td>\n",
       "      <td>48896.722656</td>\n",
       "      <td>3.654183e+10</td>\n",
       "      <td>48896.722656</td>\n",
       "    </tr>\n",
       "    <tr>\n",
       "      <th>2021-12-16</th>\n",
       "      <td>49425.574219</td>\n",
       "      <td>47529.878906</td>\n",
       "      <td>48900.464844</td>\n",
       "      <td>47665.425781</td>\n",
       "      <td>2.726815e+10</td>\n",
       "      <td>47665.425781</td>\n",
       "    </tr>\n",
       "    <tr>\n",
       "      <th>2021-12-17</th>\n",
       "      <td>47999.234375</td>\n",
       "      <td>45682.039062</td>\n",
       "      <td>47561.851562</td>\n",
       "      <td>46351.828125</td>\n",
       "      <td>3.250758e+10</td>\n",
       "      <td>46351.828125</td>\n",
       "    </tr>\n",
       "  </tbody>\n",
       "</table>\n",
       "<p>2645 rows × 6 columns</p>\n",
       "</div>"
      ],
      "text/plain": [
       "                    High           Low          Open         Close  \\\n",
       "Date                                                                 \n",
       "2014-09-17    468.174011    452.421997    465.864014    457.334015   \n",
       "2014-09-18    456.859985    413.104004    456.859985    424.440002   \n",
       "2014-09-19    427.834991    384.532013    424.102997    394.795990   \n",
       "2014-09-20    423.295990    389.882996    394.673004    408.903992   \n",
       "2014-09-21    412.425995    393.181000    408.084991    398.821014   \n",
       "...                  ...           ...           ...           ...   \n",
       "2021-12-13  50205.000000  45894.847656  50114.742188  46737.480469   \n",
       "2021-12-14  48431.398438  46424.496094  46709.824219  46612.632812   \n",
       "2021-12-15  49473.957031  46671.964844  48379.753906  48896.722656   \n",
       "2021-12-16  49425.574219  47529.878906  48900.464844  47665.425781   \n",
       "2021-12-17  47999.234375  45682.039062  47561.851562  46351.828125   \n",
       "\n",
       "                  Volume     Adj Close  \n",
       "Date                                    \n",
       "2014-09-17  2.105680e+07    457.334015  \n",
       "2014-09-18  3.448320e+07    424.440002  \n",
       "2014-09-19  3.791970e+07    394.795990  \n",
       "2014-09-20  3.686360e+07    408.903992  \n",
       "2014-09-21  2.658010e+07    398.821014  \n",
       "...                  ...           ...  \n",
       "2021-12-13  3.216673e+10  46737.480469  \n",
       "2021-12-14  3.463862e+10  46612.632812  \n",
       "2021-12-15  3.654183e+10  48896.722656  \n",
       "2021-12-16  2.726815e+10  47665.425781  \n",
       "2021-12-17  3.250758e+10  46351.828125  \n",
       "\n",
       "[2645 rows x 6 columns]"
      ]
     },
     "execution_count": 6,
     "metadata": {},
     "output_type": "execute_result"
    }
   ],
   "source": [
    "# Get the stock quote\n",
    "df = web.DataReader('BTC-USD', data_source='yahoo', start='2012-01-01', end='2021-12-17')\n",
    "# Show the data\n",
    "df"
   ]
  },
  {
   "cell_type": "code",
   "execution_count": 7,
   "id": "762c5686-39f4-4f17-959b-a39791e52391",
   "metadata": {},
   "outputs": [
    {
     "data": {
      "text/plain": [
       "(2645, 6)"
      ]
     },
     "execution_count": 7,
     "metadata": {},
     "output_type": "execute_result"
    }
   ],
   "source": [
    "# Get the number of rows and columns in the data set\n",
    "df.shape"
   ]
  },
  {
   "cell_type": "code",
   "execution_count": 8,
   "id": "28730aeb-39bd-42a0-9cdb-8da66aa6747b",
   "metadata": {},
   "outputs": [
    {
     "data": {
      "image/png": "[encoded data removed]",
      "text/plain": [
       "<Figure size 1152x576 with 1 Axes>"
      ]
     },
     "metadata": {},
     "output_type": "display_data"
    }
   ],
   "source": [
    "# Visualize the closing price history\n",
    "plt.figure(figsize=(16,8))\n",
    "plt.title('Close Price History')\n",
    "plt.plot(df['Close'])\n",
    "plt.xlabel('Date', fontsize=18)\n",
    "plt.ylabel('Close Price USD ($)', fontsize=18)\n",
    "plt.show()"
   ]
  },
  {
   "cell_type": "code",
   "execution_count": 9,
   "id": "85207742-a34d-4bf2-b0e9-3625bb94821b",
   "metadata": {},
   "outputs": [
    {
     "data": {
      "text/plain": [
       "2116"
      ]
     },
     "execution_count": 9,
     "metadata": {},
     "output_type": "execute_result"
    }
   ],
   "source": [
    "# Create a new dataframe with only the CLose column\n",
    "data = df.filter(['Close'])\n",
    "\n",
    "# Convert the dataframe to a numpy array\n",
    "dataset = data.values\n",
    "\n",
    "# Get the number of rows to train the model (for training set using only 80% of the dataset)\n",
    "training_data_len = math.ceil( len(dataset) * .8 )\n",
    "\n",
    "training_data_len"
   ]
  },
  {
   "cell_type": "code",
   "execution_count": 10,
   "id": "2b59a570-7f3f-4429-a157-94b947620bee",
   "metadata": {},
   "outputs": [
    {
     "data": {
      "text/plain": [
       "array([[0.00414359],\n",
       "       [0.00365546],\n",
       "       [0.00321557],\n",
       "       ...,\n",
       "       [0.72294912],\n",
       "       [0.70467757],\n",
       "       [0.68518473]])"
      ]
     },
     "execution_count": 10,
     "metadata": {},
     "output_type": "execute_result"
    }
   ],
   "source": [
    "# Scale the data\n",
    "\n",
    "# It is adnatagous to apply preprocessing transformations, scaling, and/or normalizations to the input data\n",
    "# before it is presented to a nueral network, and it helps the model (usually)\n",
    "\n",
    "scaler = MinMaxScaler(feature_range=(0,1))\n",
    "scaled_data = scaler.fit_transform(dataset) # computes the min and max values to be used and then transforms the data based on the two values\n",
    "\n",
    "scaled_data"
   ]
  },
  {
   "cell_type": "code",
   "execution_count": 11,
   "id": "fdcb5e2c-6bc5-4b88-abfe-ac2e87c09392",
   "metadata": {},
   "outputs": [
    {
     "name": "stdout",
     "output_type": "stream",
     "text": [
      "[array([0.00414359, 0.00365546, 0.00321557, 0.00342492, 0.0032753 ,\n",
      "       0.00332473, 0.0038239 , 0.00363714, 0.00346454, 0.00335845,\n",
      "       0.00328567, 0.00295417, 0.00292874, 0.00309905, 0.00304965,\n",
      "       0.00292288, 0.00269198, 0.00223721, 0.00211322, 0.00225521,\n",
      "       0.00234585, 0.00259445, 0.0027738 , 0.0027224 , 0.00273334,\n",
      "       0.00297447, 0.00315054, 0.0033057 , 0.00321523, 0.00303393,\n",
      "       0.00305177, 0.0031658 , 0.00313766, 0.00303822, 0.00309209,\n",
      "       0.00304287, 0.00267573, 0.00267466, 0.00251033, 0.00262063,\n",
      "       0.00259518, 0.00266387, 0.00233701, 0.00248116, 0.00237752,\n",
      "       0.00219096, 0.00219308, 0.00221774, 0.00226134, 0.00239481,\n",
      "       0.00254029, 0.00243827, 0.00248387, 0.00274766, 0.00280197,\n",
      "       0.00281341, 0.00364242, 0.00360048, 0.00326041, 0.00293862])]\n",
      "[0.0031129686946921404]\n",
      "\n",
      "[array([0.00414359, 0.00365546, 0.00321557, 0.00342492, 0.0032753 ,\n",
      "       0.00332473, 0.0038239 , 0.00363714, 0.00346454, 0.00335845,\n",
      "       0.00328567, 0.00295417, 0.00292874, 0.00309905, 0.00304965,\n",
      "       0.00292288, 0.00269198, 0.00223721, 0.00211322, 0.00225521,\n",
      "       0.00234585, 0.00259445, 0.0027738 , 0.0027224 , 0.00273334,\n",
      "       0.00297447, 0.00315054, 0.0033057 , 0.00321523, 0.00303393,\n",
      "       0.00305177, 0.0031658 , 0.00313766, 0.00303822, 0.00309209,\n",
      "       0.00304287, 0.00267573, 0.00267466, 0.00251033, 0.00262063,\n",
      "       0.00259518, 0.00266387, 0.00233701, 0.00248116, 0.00237752,\n",
      "       0.00219096, 0.00219308, 0.00221774, 0.00226134, 0.00239481,\n",
      "       0.00254029, 0.00243827, 0.00248387, 0.00274766, 0.00280197,\n",
      "       0.00281341, 0.00364242, 0.00360048, 0.00326041, 0.00293862]), array([0.00365546, 0.00321557, 0.00342492, 0.0032753 , 0.00332473,\n",
      "       0.0038239 , 0.00363714, 0.00346454, 0.00335845, 0.00328567,\n",
      "       0.00295417, 0.00292874, 0.00309905, 0.00304965, 0.00292288,\n",
      "       0.00269198, 0.00223721, 0.00211322, 0.00225521, 0.00234585,\n",
      "       0.00259445, 0.0027738 , 0.0027224 , 0.00273334, 0.00297447,\n",
      "       0.00315054, 0.0033057 , 0.00321523, 0.00303393, 0.00305177,\n",
      "       0.0031658 , 0.00313766, 0.00303822, 0.00309209, 0.00304287,\n",
      "       0.00267573, 0.00267466, 0.00251033, 0.00262063, 0.00259518,\n",
      "       0.00266387, 0.00233701, 0.00248116, 0.00237752, 0.00219096,\n",
      "       0.00219308, 0.00221774, 0.00226134, 0.00239481, 0.00254029,\n",
      "       0.00243827, 0.00248387, 0.00274766, 0.00280197, 0.00281341,\n",
      "       0.00364242, 0.00360048, 0.00326041, 0.00293862, 0.00311297])]\n",
      "[0.0031129686946921404, 0.0031059348915962078]\n",
      "\n"
     ]
    }
   ],
   "source": [
    "# Create the training data set\n",
    "# Create the scaled training data set\n",
    "\n",
    "train_data = scaled_data[0:training_data_len, :] #contains all values from 0 to training data length, and get back all of the columns\n",
    "\n",
    "# Split the data into x_train and y_train data sets\n",
    "\n",
    "x_train = [] # the independent training variables or the training variables\n",
    "y_train = [] # the dependent variables or the target variable\n",
    "\n",
    "# append the past 60 values to the x_train data set\n",
    "for i in range(60, len(train_data)):\n",
    "    x_train.append(train_data[i-60:i, 0]) # will contain 60 values from index 0 to 59\n",
    "    y_train.append(train_data[i, 0]) # will contain the 61st value as index 60\n",
    "    if i<=61:\n",
    "        print(x_train)\n",
    "        print(y_train)\n",
    "        print()"
   ]
  },
  {
   "cell_type": "code",
   "execution_count": 12,
   "id": "998c8284-20ed-499c-b423-8c8429bd051c",
   "metadata": {},
   "outputs": [],
   "source": [
    "# Convert the x_train and the y_train to numpy arrays\n",
    "x_train, y_train = np.array(x_train), np.array(y_train)"
   ]
  },
  {
   "cell_type": "code",
   "execution_count": 13,
   "id": "ab1b5708-4e8d-4037-971f-c7b786fa7e50",
   "metadata": {},
   "outputs": [
    {
     "data": {
      "text/plain": [
       "(2056, 60)"
      ]
     },
     "execution_count": 13,
     "metadata": {},
     "output_type": "execute_result"
    }
   ],
   "source": [
    "# Reshape the data - Why?\n",
    "# An LSTM network expects the input data to be 3 dimensional in the form of (number of samples, number of time steps, number of features)\n",
    "# Right now, the x_train data set shows the number of rows and columns only (2 dimensional)\n",
    "x_train.shape "
   ]
  },
  {
   "cell_type": "code",
   "execution_count": 14,
   "id": "f6a0dfe2-2b20-42dc-9d45-d66920818fef",
   "metadata": {},
   "outputs": [
    {
     "data": {
      "text/plain": [
       "(2056, 60, 1)"
      ]
     },
     "execution_count": 14,
     "metadata": {},
     "output_type": "execute_result"
    }
   ],
   "source": [
    "# the number of samples = the number of rows that we have which is 1543\n",
    "# the number of timesteps = 60 (our window) or the number of columns\n",
    "# the number of features = 1 (our closing price)\n",
    "# x_train = np.reshape(x_train, (1543, 60, 1)\n",
    "\n",
    "# a more robust way to write the above line\n",
    "x_train = np.reshape(x_train, (x_train.shape[0], x_train.shape[1], 1))\n",
    "x_train.shape"
   ]
  },
  {
   "cell_type": "markdown",
   "id": "6bf45c08-dfdb-4bb0-8644-f614fa5e8d37",
   "metadata": {},
   "source": [
    "## Build the LSTM Model"
   ]
  },
  {
   "cell_type": "code",
   "execution_count": 15,
   "id": "94c4bf2b-35fe-4360-b864-212417d0c8df",
   "metadata": {},
   "outputs": [],
   "source": [
    "model = Sequential()\n",
    "\n",
    "# - add a LSTM layer to our model, which will have 50 neurons\n",
    "# - return_sequences=True because we will be using another LSTM layer\n",
    "# - because it is the first layer, we need to provide an input shape \n",
    "#   which will be the number of timesteps (60) and number of features (1)\n",
    "model.add(LSTM(50, return_sequences=True, input_shape=(x_train.shape[1], 1)))\n",
    "          \n",
    "# - add a second LSTM layer with 50 neurons again\n",
    "# - return_sequences=False because we will NOT be using another LSTM layer for our models architecture\n",
    "model.add(LSTM(50, return_sequences=False))\n",
    "\n",
    "# adding a Dense layer with 25 neurons, this is just a regularly densly connected neural net layer\n",
    "model.add(Dense(25))\n",
    "\n",
    "model.add(Dense(1))"
   ]
  },
  {
   "cell_type": "code",
   "execution_count": 16,
   "id": "b2e02fd0-aabb-42d0-9335-acd4f1571c22",
   "metadata": {},
   "outputs": [],
   "source": [
    "# Compile the model\n",
    "\n",
    "# giving model an optimizer and loss function\n",
    "# an optimizer is used to improve upon the loss function\n",
    "# and the loss function is used to measure how well the model did on training\n",
    "model.compile(optimizer='adam', loss='mean_squared_error')"
   ]
  },
  {
   "cell_type": "code",
   "execution_count": 17,
   "id": "3db5ed95-abee-41df-9b23-274a302b693f",
   "metadata": {},
   "outputs": [
    {
     "name": "stdout",
     "output_type": "stream",
     "text": [
      "2056/2056 [==============================] - 35s 14ms/step - loss: 3.8497e-04\n"
     ]
    },
    {
     "data": {
      "text/plain": [
       "<tensorflow.python.keras.callbacks.History at 0x2588d98c820>"
      ]
     },
     "execution_count": 17,
     "metadata": {},
     "output_type": "execute_result"
    }
   ],
   "source": [
    "# Train the model\n",
    "\n",
    "# batch_size = total number of training samples present in a single batch\n",
    "# epoch is the number of iterations when an entire data set is passed forward and backward through a neural net\n",
    "model.fit(x_train, y_train, batch_size=1, epochs=1)"
   ]
  },
  {
   "cell_type": "code",
   "execution_count": 18,
   "id": "a4396835-cd06-4727-b013-f0f45e4db5c1",
   "metadata": {},
   "outputs": [],
   "source": [
    "# Create the test dataset\n",
    "# Create a new array containin scaled values from index 1543 to 2003\n",
    "test_data = scaled_data[training_data_len - 60: df.shape[0], :]\n",
    "\n",
    "# Create the dataset x_tests and y_test\n",
    "x_test = []\n",
    "y_test = dataset[training_data_len:, :] # all the values that we want our model to predict - these values are NOT scaled\n",
    "\n",
    "for i in range(60, len(test_data)):\n",
    "    x_test.append(test_data[i-60:i, 0])"
   ]
  },
  {
   "cell_type": "code",
   "execution_count": 19,
   "id": "2fb01153-e665-423d-b2b5-068a21228dc3",
   "metadata": {},
   "outputs": [],
   "source": [
    "# Convert the data to a numpy array so that we can use it in the LSTM model\n",
    "x_test = np.array(x_test)"
   ]
  },
  {
   "cell_type": "code",
   "execution_count": 20,
   "id": "f7430f00-1908-4079-8640-0ffcd980eeab",
   "metadata": {},
   "outputs": [
    {
     "data": {
      "text/plain": [
       "(529, 60)"
      ]
     },
     "execution_count": 20,
     "metadata": {},
     "output_type": "execute_result"
    }
   ],
   "source": [
    "x_test.shape"
   ]
  },
  {
   "cell_type": "code",
   "execution_count": 21,
   "id": "ebef2a0b-a87c-44dc-bcdc-071c81e7fc80",
   "metadata": {},
   "outputs": [],
   "source": [
    "# Reshape the data because the data is 2 dimensional and we need 3 dimensional for LSTM model\n",
    "x_test = np.reshape(x_test, (x_test.shape[0], x_test.shape[1], 1))"
   ]
  },
  {
   "cell_type": "code",
   "execution_count": 22,
   "id": "1bf159ac-4dd6-4409-a0d6-5c98d2114a52",
   "metadata": {},
   "outputs": [],
   "source": [
    "# Get the models predicted price values\n",
    "predictions = model.predict(x_test)\n",
    "# inverse transform the data\n",
    "predictions = scaler.inverse_transform(predictions) #unscaling the values to be original values (USD price)"
   ]
  },
  {
   "cell_type": "markdown",
   "id": "065a0288-a28b-41e8-af53-0f65c40a02a8",
   "metadata": {},
   "source": [
    "## Evaluate our model"
   ]
  },
  {
   "cell_type": "code",
   "execution_count": 23,
   "id": "5df4171a-e8a6-4f39-acdb-7c6a12e3c716",
   "metadata": {},
   "outputs": [
    {
     "data": {
      "text/plain": [
       "1278.013066369329"
      ]
     },
     "execution_count": 23,
     "metadata": {},
     "output_type": "execute_result"
    }
   ],
   "source": [
    "# Get the root mean squared error (RMSE)\n",
    "# - This is a good measure of how accurate the model predicts to response\n",
    "# - Its is the standard deviation of the residuals\n",
    "# - The lower values of RMSE indicate a better fit\n",
    "# Usually you would want to evaluate your model with other metrics as well, to truely get a better idea of how your model performs\n",
    "\n",
    "rmse = np.sqrt( np.mean(predictions-y_test)**2 )\n",
    "rmse # a value of 0 would indicate the model predicted perfectly, exactly as it was suppose to be from the testing data... why am I getting 0.4 xD"
   ]
  },
  {
   "cell_type": "code",
   "execution_count": 24,
   "id": "990dbaef-e04b-4c39-9043-9131d126e7f8",
   "metadata": {},
   "outputs": [
    {
     "name": "stderr",
     "output_type": "stream",
     "text": [
      "<ipython-input-24-c3d53ef0c4ff>:4: SettingWithCopyWarning: \n",
      "A value is trying to be set on a copy of a slice from a DataFrame.\n",
      "Try using .loc[row_indexer,col_indexer] = value instead\n",
      "\n",
      "See the caveats in the documentation: https://pandas.pydata.org/pandas-docs/stable/user_guide/indexing.html#returning-a-view-versus-a-copy\n",
      "  valid['Predictions'] = predictions\n"
     ]
    },
    {
     "data": {
      "image/png": "[encoded data removed]",
      "text/plain": [
       "<Figure size 1152x576 with 1 Axes>"
      ]
     },
     "metadata": {},
     "output_type": "display_data"
    }
   ],
   "source": [
    "# Plot the data\n",
    "train = data[:training_data_len]\n",
    "valid = data[training_data_len:]\n",
    "valid['Predictions'] = predictions\n",
    "\n",
    "# Visualize the data\n",
    "plt.figure(figsize=(16,8))\n",
    "plt.title('Model')\n",
    "plt.xlabel('Date', fontsize=18)\n",
    "plt.ylabel('Close Price USD ($)', fontsize=18)\n",
    "plt.plot(train['Close'])\n",
    "plt.plot(valid[['Close', 'Predictions']])\n",
    "plt.legend(['Train', 'Val', 'Predictions'], loc='lower right')\n",
    "plt.show()"
   ]
  },
  {
   "cell_type": "code",
   "execution_count": 25,
   "id": "ff4be688-1aa1-4b86-86cb-ff3fc6b19d38",
   "metadata": {},
   "outputs": [
    {
     "data": {
      "text/html": [
       "<div>\n",
       "<style scoped>\n",
       "    .dataframe tbody tr th:only-of-type {\n",
       "        vertical-align: middle;\n",
       "    }\n",
       "\n",
       "    .dataframe tbody tr th {\n",
       "        vertical-align: top;\n",
       "    }\n",
       "\n",
       "    .dataframe thead th {\n",
       "        text-align: right;\n",
       "    }\n",
       "</style>\n",
       "<table border=\"1\" class=\"dataframe\">\n",
       "  <thead>\n",
       "    <tr style=\"text-align: right;\">\n",
       "      <th></th>\n",
       "      <th>Close</th>\n",
       "      <th>Predictions</th>\n",
       "    </tr>\n",
       "    <tr>\n",
       "      <th>Date</th>\n",
       "      <th></th>\n",
       "      <th></th>\n",
       "    </tr>\n",
       "  </thead>\n",
       "  <tbody>\n",
       "    <tr>\n",
       "      <th>2020-07-04</th>\n",
       "      <td>9132.488281</td>\n",
       "      <td>9702.910156</td>\n",
       "    </tr>\n",
       "    <tr>\n",
       "      <th>2020-07-05</th>\n",
       "      <td>9073.942383</td>\n",
       "      <td>9693.644531</td>\n",
       "    </tr>\n",
       "    <tr>\n",
       "      <th>2020-07-06</th>\n",
       "      <td>9375.474609</td>\n",
       "      <td>9679.889648</td>\n",
       "    </tr>\n",
       "    <tr>\n",
       "      <th>2020-07-07</th>\n",
       "      <td>9252.277344</td>\n",
       "      <td>9713.377930</td>\n",
       "    </tr>\n",
       "    <tr>\n",
       "      <th>2020-07-08</th>\n",
       "      <td>9428.333008</td>\n",
       "      <td>9746.303711</td>\n",
       "    </tr>\n",
       "    <tr>\n",
       "      <th>...</th>\n",
       "      <td>...</td>\n",
       "      <td>...</td>\n",
       "    </tr>\n",
       "    <tr>\n",
       "      <th>2021-12-13</th>\n",
       "      <td>46737.480469</td>\n",
       "      <td>46678.105469</td>\n",
       "    </tr>\n",
       "    <tr>\n",
       "      <th>2021-12-14</th>\n",
       "      <td>46612.632812</td>\n",
       "      <td>46408.628906</td>\n",
       "    </tr>\n",
       "    <tr>\n",
       "      <th>2021-12-15</th>\n",
       "      <td>48896.722656</td>\n",
       "      <td>46025.769531</td>\n",
       "    </tr>\n",
       "    <tr>\n",
       "      <th>2021-12-16</th>\n",
       "      <td>47665.425781</td>\n",
       "      <td>46044.609375</td>\n",
       "    </tr>\n",
       "    <tr>\n",
       "      <th>2021-12-17</th>\n",
       "      <td>46351.828125</td>\n",
       "      <td>46006.320312</td>\n",
       "    </tr>\n",
       "  </tbody>\n",
       "</table>\n",
       "<p>529 rows × 2 columns</p>\n",
       "</div>"
      ],
      "text/plain": [
       "                   Close   Predictions\n",
       "Date                                  \n",
       "2020-07-04   9132.488281   9702.910156\n",
       "2020-07-05   9073.942383   9693.644531\n",
       "2020-07-06   9375.474609   9679.889648\n",
       "2020-07-07   9252.277344   9713.377930\n",
       "2020-07-08   9428.333008   9746.303711\n",
       "...                  ...           ...\n",
       "2021-12-13  46737.480469  46678.105469\n",
       "2021-12-14  46612.632812  46408.628906\n",
       "2021-12-15  48896.722656  46025.769531\n",
       "2021-12-16  47665.425781  46044.609375\n",
       "2021-12-17  46351.828125  46006.320312\n",
       "\n",
       "[529 rows x 2 columns]"
      ]
     },
     "execution_count": 25,
     "metadata": {},
     "output_type": "execute_result"
    }
   ],
   "source": [
    "# Show valid and predicted prices\n",
    "valid"
   ]
  },
  {
   "cell_type": "code",
   "execution_count": null,
   "id": "420bff77-0214-4138-88b0-c9e4156de7bb",
   "metadata": {},
   "outputs": [],
   "source": []
  }
 ],
 "metadata": {
  "kernelspec": {
   "display_name": "Python 3",
   "language": "python",
   "name": "python3"
  },
  "language_info": {
   "codemirror_mode": {
    "name": "ipython",
    "version": 3
   },
   "file_extension": ".py",
   "mimetype": "text/x-python",
   "name": "python",
   "nbconvert_exporter": "python",
   "pygments_lexer": "ipython3",
   "version": "3.8.8"
  }
 },
 "nbformat": 4,
 "nbformat_minor": 5
}
